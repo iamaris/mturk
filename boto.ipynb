{
 "cells": [
  {
   "cell_type": "code",
   "execution_count": 68,
   "metadata": {},
   "outputs": [],
   "source": [
    "import boto\n",
    "from boto.mturk.connection import MTurkConnection\n",
    "from boto.mturk.question import HTMLQuestion"
   ]
  },
  {
   "cell_type": "code",
   "execution_count": 66,
   "metadata": {},
   "outputs": [],
   "source": [
    "class mturk(object):\n",
    "    def __init__(self, file='rootkey_veit_indeed.csv', prod=False):\n",
    "        self._file = file\n",
    "        self._prod = prod\n",
    "        self._credentials = self.get_credentials()\n",
    "        self._connection = self.create_connection()\n",
    "    \n",
    "    def get_credentials(self):\n",
    "        cred = {}\n",
    "        with open(self._file) as f:\n",
    "            creds = f.read().strip().split()\n",
    "        for i in creds:\n",
    "            key, value = i.split('=')\n",
    "            cred[key] = value\n",
    "        return cred\n",
    "    \n",
    "    def create_connection(self):\n",
    "        self._connection = MTurkConnection(aws_access_key_id=self._credentials['AWSAccessKeyId'],\n",
    "                      aws_secret_access_key=self._credentials['AWSSecretKey'],\n",
    "                      host='mechanicalturk{0}.amazonaws.com'.format('.sandbox' if self._prod==True else ''))\n",
    "        \n",
    "    def get_balance(self):\n",
    "        return self._connection.get_account_balance()[0]\n",
    "    "
   ]
  },
  {
   "cell_type": "code",
   "execution_count": 64,
   "metadata": {},
   "outputs": [],
   "source": [
    "a = mturk()"
   ]
  },
  {
   "cell_type": "code",
   "execution_count": 67,
   "metadata": {},
   "outputs": [
    {
     "data": {
      "text/plain": [
       "$10,000.00"
      ]
     },
     "execution_count": 67,
     "metadata": {},
     "output_type": "execute_result"
    }
   ],
   "source": [
    "a.get_balance()"
   ]
  },
  {
   "cell_type": "code",
   "execution_count": 17,
   "metadata": {},
   "outputs": [
    {
     "name": "stdout",
     "output_type": "stream",
     "text": [
      "Your HIT has been created. You can see it at this link:\n",
      "https://workersandbox.mturk.com/mturk/preview?groupId=3D8ERG8DI838UBXBIIOFDZSUTISMAL\n",
      "Your HIT ID is: 3D17ECOUOEWROA3INPKQMJXUSVL136\n"
     ]
    }
   ],
   "source": [
    "question_html_value = \"\"\"\n",
    "<html>\n",
    "<head>\n",
    "<meta http-equiv='Content-Type' content='text/html; charset=UTF-8'/>\n",
    "<script src='https://s3.amazonaws.com/mturk-public/externalHIT_v1.js' type='text/javascript'></script>\n",
    "</head>\n",
    "<body>\n",
    "<!-- HTML to handle creating the HIT form -->\n",
    "<form name='mturk_form' method='post' id='mturk_form' action='https://workersandbox.mturk.com/mturk/externalSubmit'>\n",
    "<input type='hidden' value='' name='assignmentId' id='assignmentId'/>\n",
    "<!-- This is where you define your question(s) --> \n",
    "<h1>Please name the company that created the iPhone 4</h1>\n",
    "<p><textarea name='answer' rows=3 cols=80></textarea></p>\n",
    "<!-- HTML to handle submitting the HIT -->\n",
    "<p><input type='submit' id='submitButton' value='Submit' /></p></form>\n",
    "<script language='Javascript'>turkSetAssignmentID();</script>\n",
    "</body>\n",
    "</html>\n",
    "\"\"\"\n",
    "# The first parameter is the HTML content\n",
    "# The second is the height of the frame it will be shown in\n",
    "# Check out the documentation on HTMLQuestion for more details\n",
    "html_question = HTMLQuestion(question_html_value, 500)\n",
    "# These parameters define the HIT that will be created\n",
    "# question is what we defined above\n",
    "# max_assignments is the # of unique Workers you're requesting\n",
    "# title, description, and keywords help Workers find your HIT\n",
    "# duration is the # of seconds Workers have to complete your HIT\n",
    "# reward is what Workers will be paid when you approve their work\n",
    "# Check out the documentation on CreateHIT for more details\n",
    "response = mtc.create_hit(question=html_question,\n",
    "                          max_assignments=1,\n",
    "                          title=\"Answer a simple question\",\n",
    "                          description=\"Help research a topic\",\n",
    "                          keywords=\"question, answer, research\",\n",
    "                          duration=120,\n",
    "                          reward=0.50)\n",
    "# The response included several fields that will be helpful later\n",
    "hit_type_id = response[0].HITTypeId\n",
    "hit_id = response[0].HITId\n",
    "print \"Your HIT has been created. You can see it at this link:\"\n",
    "print \"https://workersandbox.mturk.com/mturk/preview?groupId={}\".format(hit_type_id)\n",
    "print \"Your HIT ID is: {}\".format(hit_id)"
   ]
  },
  {
   "cell_type": "code",
   "execution_count": 21,
   "metadata": {},
   "outputs": [
    {
     "name": "stdout",
     "output_type": "stream",
     "text": [
      "The Worker with ID A3FHJ0LCA4LKGZ and gave the answer Steve\n"
     ]
    }
   ],
   "source": [
    "# This is the value you reeceived when you created the HIT\n",
    "# You can also retrieve HIT IDs by calling GetReviewableHITs\n",
    "# and SearchHITs. See the links to read more about these APIs.\n",
    "result = mtc.get_assignments(hit_id)\n",
    "assignment = result[0]\n",
    "worker_id = assignment.WorkerId\n",
    "for answer in assignment.answers[0]:\n",
    "    if answer.qid == 'answer':\n",
    "        worker_answer = answer.fields[0]\n",
    "print \"The Worker with ID {} and gave the answer {}\".format(worker_id, worker_answer)"
   ]
  },
  {
   "cell_type": "code",
   "execution_count": 24,
   "metadata": {
    "collapsed": true
   },
   "outputs": [],
   "source": [
    "#cleaning-up\n",
    "#assignment_id = \"33LK57MYLT591UPX3KJDBHDNLDXSZ1\"\n",
    "#mtc.approve_assignment(assignment_id)\n",
    "#mtc.dispose_hit(hit_id)\n",
    "#https://blog.mturk.com/tutorial-getting-started-with-mturk-and-python-using-boto-452fb0243a30"
   ]
  },
  {
   "cell_type": "code",
   "execution_count": null,
   "metadata": {
    "collapsed": true
   },
   "outputs": [],
   "source": []
  }
 ],
 "metadata": {
  "kernelspec": {
   "display_name": "Python 2 (scratch)",
   "language": "python",
   "name": "scratch"
  },
  "language_info": {
   "codemirror_mode": {
    "name": "ipython",
    "version": 2
   },
   "file_extension": ".py",
   "mimetype": "text/x-python",
   "name": "python",
   "nbconvert_exporter": "python",
   "pygments_lexer": "ipython2",
   "version": "2.7.9"
  }
 },
 "nbformat": 4,
 "nbformat_minor": 2
}
